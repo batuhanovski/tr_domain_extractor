{
 "cells": [
  {
   "cell_type": "code",
   "execution_count": 254,
   "id": "207a2778",
   "metadata": {},
   "outputs": [],
   "source": [
    "from flair.models import SequenceTagger\n",
    "from flair.data import Sentence\n",
    "import re\n",
    "import pandas as pd\n",
    "import stanza\n",
    "from collections import Counter\n",
    "from sklearn.feature_extraction.text import TfidfVectorizer\n",
    "from nltk.corpus import stopwords\n",
    "import yake\n",
    "import pylab\n",
    "import itertools\n",
    "import graphviz\n",
    "import numpy as np"
   ]
  },
  {
   "cell_type": "code",
   "execution_count": 2,
   "id": "c702b37f",
   "metadata": {},
   "outputs": [
    {
     "name": "stdout",
     "output_type": "stream",
     "text": [
      "2022-06-06 23:23:59,651 loading file bert-base-turkish-cased-pos/final-model.pt\n",
      "2022-06-06 23:24:03,744 SequenceTagger predicts: Dictionary with 18 tags: <unk>, NOUN, VERB, PUNCT, ADJ, ADV, PROPN, CCONJ, DET, PRON, ADP, NUM, AUX, INTJ, X, SCONJ, SYM, PART\n"
     ]
    }
   ],
   "source": [
    "pos = SequenceTagger.load('bert-base-turkish-cased-pos/final-model.pt')"
   ]
  },
  {
   "cell_type": "code",
   "execution_count": 3,
   "id": "26358443",
   "metadata": {},
   "outputs": [
    {
     "name": "stdout",
     "output_type": "stream",
     "text": [
      "2022-06-06 23:24:05,516 loading file bert-base-turkish-cased-dependency/final-model.pt\n",
      "2022-06-06 23:24:09,107 SequenceTagger predicts: Dictionary with 42 tags: <unk>, punct, obl, nmod:poss, root, nsubj, amod, obj, conj, advmod, det, acl, case, cc, advcl, compound, flat, nmod, advmod:emph, nummod, ccomp, compound:lvc, cop, csubj, compound:redup, discourse, aux:q, parataxis, aux, mark, iobj, cc:preconj, appos, clf, xcomp, vocative, list, orphan, dislocated, fixed, dep, goeswith\n"
     ]
    }
   ],
   "source": [
    "dependency = SequenceTagger.load('bert-base-turkish-cased-dependency/final-model.pt')"
   ]
  },
  {
   "cell_type": "code",
   "execution_count": 4,
   "id": "94bee9f8",
   "metadata": {},
   "outputs": [
    {
     "data": {
      "application/vnd.jupyter.widget-view+json": {
       "model_id": "4be016077c9e41069acd2eb84de864a3",
       "version_major": 2,
       "version_minor": 0
      },
      "text/plain": [
       "Downloading https://raw.githubusercontent.com/stanfordnlp/stanza-resources/main/resources_1.3.0.json:   0%|   …"
      ]
     },
     "metadata": {},
     "output_type": "display_data"
    },
    {
     "name": "stderr",
     "output_type": "stream",
     "text": [
      "2022-06-06 23:24:12 INFO: Downloading default packages for language: tr (Turkish)...\n",
      "2022-06-06 23:24:12 INFO: File exists: /Users/hamza.akyildiz/stanza_resources/tr/default.zip.\n",
      "2022-06-06 23:24:13 INFO: Finished downloading models and saved to /Users/hamza.akyildiz/stanza_resources.\n"
     ]
    }
   ],
   "source": [
    "stanza.download('tr')"
   ]
  },
  {
   "cell_type": "code",
   "execution_count": 5,
   "id": "4140e290",
   "metadata": {},
   "outputs": [
    {
     "name": "stderr",
     "output_type": "stream",
     "text": [
      "2022-06-06 23:24:18 INFO: Loading these models for language: tr (Turkish):\n",
      "=======================\n",
      "| Processor | Package |\n",
      "-----------------------\n",
      "| tokenize  | imst    |\n",
      "| mwt       | imst    |\n",
      "| pos       | imst    |\n",
      "| lemma     | imst    |\n",
      "| depparse  | imst    |\n",
      "=======================\n",
      "\n",
      "2022-06-06 23:24:18 INFO: Use device: cpu\n",
      "2022-06-06 23:24:18 INFO: Loading: tokenize\n",
      "2022-06-06 23:24:18 INFO: Loading: mwt\n",
      "2022-06-06 23:24:18 INFO: Loading: pos\n",
      "2022-06-06 23:24:18 INFO: Loading: lemma\n",
      "2022-06-06 23:24:18 INFO: Loading: depparse\n",
      "2022-06-06 23:24:18 INFO: Done loading processors!\n",
      "2022-06-06 23:24:18 INFO: Loading these models for language: tr (Turkish):\n",
      "=======================\n",
      "| Processor | Package |\n",
      "-----------------------\n",
      "| tokenize  | imst    |\n",
      "| mwt       | imst    |\n",
      "| pos       | imst    |\n",
      "| lemma     | imst    |\n",
      "| depparse  | imst    |\n",
      "=======================\n",
      "\n",
      "2022-06-06 23:24:18 INFO: Use device: cpu\n",
      "2022-06-06 23:24:18 INFO: Loading: tokenize\n",
      "2022-06-06 23:24:18 INFO: Loading: mwt\n",
      "2022-06-06 23:24:18 INFO: Loading: pos\n",
      "2022-06-06 23:24:19 INFO: Loading: lemma\n",
      "2022-06-06 23:24:19 INFO: Loading: depparse\n",
      "2022-06-06 23:24:19 INFO: Done loading processors!\n"
     ]
    }
   ],
   "source": [
    "nlp_raw = stanza.Pipeline(lang='tr')\n",
    "nlp = stanza.Pipeline(lang='tr',tokenize_pretokenized=True)"
   ]
  },
  {
   "cell_type": "code",
   "execution_count": 6,
   "id": "5cb14907",
   "metadata": {},
   "outputs": [],
   "source": [
    "f = open('simplified-input.txt', 'r')\n",
    "text = f.read()"
   ]
  },
  {
   "cell_type": "code",
   "execution_count": 7,
   "id": "0119441b",
   "metadata": {},
   "outputs": [],
   "source": [
    "text = text.replace(\"'\",'')\n",
    "text = text.replace(\"/\",'')\n",
    "text = text.replace(\"-\",'')\n",
    "text = text.replace(\"-\",'')\n",
    "text = text.replace(\"’\",'')"
   ]
  },
  {
   "cell_type": "code",
   "execution_count": 8,
   "id": "c1d1f9a7",
   "metadata": {},
   "outputs": [
    {
     "name": "stderr",
     "output_type": "stream",
     "text": [
      "/Users/hamza.akyildiz/Library/Python/3.8/lib/python/site-packages/stanza/models/common/beam.py:86: UserWarning: __floordiv__ is deprecated, and its behavior will change in a future version of pytorch. It currently rounds toward 0 (like the 'trunc' function NOT 'floor'). This results in incorrect rounding for negative values. To keep the current behavior, use torch.div(a, b, rounding_mode='trunc'), or for actual floor division, use torch.div(a, b, rounding_mode='floor').\n",
      "  prevK = bestScoresId // numWords\n"
     ]
    }
   ],
   "source": [
    "sentences = nlp_raw(text).sentences"
   ]
  },
  {
   "cell_type": "code",
   "execution_count": 9,
   "id": "4de5148e",
   "metadata": {},
   "outputs": [],
   "source": [
    "tokenized_sentences = []\n",
    "for sentence in sentences:\n",
    "    s = Sentence(sentence.text)\n",
    "    tokenized_sentence = []\n",
    "    for i in s:\n",
    "        u = re.findall(r'\"(.*?)\"', str(i))\n",
    "        tokenized_sentence.append(u[0])\n",
    "    tokenized_sentences.append(tokenized_sentence)"
   ]
  },
  {
   "cell_type": "code",
   "execution_count": 10,
   "id": "06582a54",
   "metadata": {},
   "outputs": [],
   "source": [
    "doc = nlp(tokenized_sentences)"
   ]
  },
  {
   "cell_type": "code",
   "execution_count": 11,
   "id": "69549ef1",
   "metadata": {},
   "outputs": [],
   "source": [
    "fiilimsi_affixes=[\"ma\",\"me\",\"mak\",\"mek\",\"ış\",\"iş\",\"uş\",\"üş\", #isim-fiil\n",
    "                 \"an\",\"en\",\"mış\",\"miş\",\"müş\",\"muş\",\"ası\",\"esi\",\"maz\",\"mez\",\"ar\",\"er\",\"ır\",\"ir\",\"r\",\n",
    "                  \"dık\",\"dik\",\"duk\",\"dük\",\"acak\",\"ecek\",\n",
    "                 \"ken\",\"alı\",\"eli\",\"madan\",\"meden\",\"ince\",\"ip\",\"arak\",\"dıkça\",\"e\",\"casına\",\"maksızın\",\"dığında\"]"
   ]
  },
  {
   "cell_type": "code",
   "execution_count": 12,
   "id": "227eb794",
   "metadata": {},
   "outputs": [],
   "source": [
    "def detect_fiilimsi(doc):\n",
    "    for sentence in doc.sentences:\n",
    "        s1 = Sentence(sentence.text)\n",
    "        s2 = Sentence(sentence.text)\n",
    "        dependency.predict(s1)\n",
    "        pos.predict(s2)\n",
    "        for i,word in enumerate(sentence.words):\n",
    "            word.deprel = s1.to_dict()['all labels'][i]['value']\n",
    "            word.upos = s2.to_dict()['all labels'][i]['value']\n",
    "            if(word.upos == \"VERB\" and word.deprel != 'root'):\n",
    "                affix = word.text[len(word.lemma):]\n",
    "                for i in fiilimsi_affixes:\n",
    "                    if i in affix:\n",
    "                        word.misc = 'fiilimsi'"
   ]
  },
  {
   "cell_type": "code",
   "execution_count": 13,
   "id": "be4230c3",
   "metadata": {},
   "outputs": [],
   "source": [
    "detect_fiilimsi(doc)"
   ]
  },
  {
   "cell_type": "code",
   "execution_count": 16,
   "id": "d0d0e88e",
   "metadata": {},
   "outputs": [],
   "source": [
    "def get_noun_phrases(sentences):\n",
    "    noun_phrases = []\n",
    "    for sentence_no,sentence in enumerate(sentences):\n",
    "        for word_no,word in enumerate(sentence.words):\n",
    "                next_word_head = sentence.words[word.head-1]\n",
    "                next_word = sentence.words[word.id] if word.id < len(sentence.words) else sentence.words[word.id-1]\n",
    "                if word.upos == 'NOUN' and word.deprel == 'nmod:poss' and next_word_head.upos == 'NOUN':\n",
    "                    noun_phrase = {'text':' '.join([word.text,next_word_head.text]),\n",
    "                                   'lemma':' '.join([word.lemma,next_word_head.lemma]),\n",
    "                                  'sentence_id':sentence_no}\n",
    "                    noun_phrases.append(noun_phrase)\n",
    "                elif word.upos == 'NUM' and word.deprel == 'nummod' and next_word_head.upos == 'NOUN':\n",
    "                    noun_phrase = {'text':' '.join([word.text,next_word_head.text]),\n",
    "                                   'lemma':' '.join([word.lemma,next_word_head.lemma]),\n",
    "                                  'sentence_id':sentence_no}\n",
    "                    #noun_phrases.append(noun_phrase)\n",
    "                elif word.upos == 'ADJ' and word.deprel == 'amod' and next_word_head.upos == 'NOUN':\n",
    "                    noun_phrase = {'text':' '.join([word.text,next_word_head.text]),\n",
    "                                   'lemma':' '.join([word.lemma,next_word_head.lemma]),\n",
    "                                  'sentence_id':sentence_no}\n",
    "                    noun_phrases.append(noun_phrase)\n",
    "                elif word.upos == 'NOUN' and word.deprel in ['nsubj']:\n",
    "                    noun_phrase = {'text':word.text,\n",
    "                                   'lemma':word.lemma,\n",
    "                                  'sentence_id':sentence_no}\n",
    "                    noun_phrases.append(noun_phrase)\n",
    "                elif word.upos == 'VERB' and word.misc in ['fiilimsi'] and word.deprel == 'nmod:poss' and next_word_head.upos == 'NOUN':\n",
    "                    noun_phrase = {'text':' '.join([word.text,next_word_head.text]),\n",
    "                                   'lemma':' '.join([word.lemma,next_word_head.lemma]),\n",
    "                                  'sentence_id':sentence_no}\n",
    "                    noun_phrases.append(noun_phrase)\n",
    "    return noun_phrases"
   ]
  },
  {
   "cell_type": "code",
   "execution_count": 17,
   "id": "d291d3a3",
   "metadata": {},
   "outputs": [],
   "source": [
    "noun_phrases = get_noun_phrases(doc.sentences)\n",
    "common_noun_phrases = Counter([d['lemma'] for d in noun_phrases]).most_common()"
   ]
  },
  {
   "cell_type": "code",
   "execution_count": 18,
   "id": "e74ba9f0",
   "metadata": {},
   "outputs": [],
   "source": [
    "df = pd.DataFrame.from_records(noun_phrases)"
   ]
  },
  {
   "cell_type": "code",
   "execution_count": 20,
   "id": "882abd0a",
   "metadata": {},
   "outputs": [
    {
     "data": {
      "text/html": [
       "<div>\n",
       "<style scoped>\n",
       "    .dataframe tbody tr th:only-of-type {\n",
       "        vertical-align: middle;\n",
       "    }\n",
       "\n",
       "    .dataframe tbody tr th {\n",
       "        vertical-align: top;\n",
       "    }\n",
       "\n",
       "    .dataframe thead th {\n",
       "        text-align: right;\n",
       "    }\n",
       "</style>\n",
       "<table border=\"1\" class=\"dataframe\">\n",
       "  <thead>\n",
       "    <tr style=\"text-align: right;\">\n",
       "      <th></th>\n",
       "      <th>text</th>\n",
       "      <th>lemma</th>\n",
       "      <th>sentence_id</th>\n",
       "    </tr>\n",
       "  </thead>\n",
       "  <tbody>\n",
       "    <tr>\n",
       "      <th>0</th>\n",
       "      <td>kampüsü</td>\n",
       "      <td>kampü</td>\n",
       "      <td>0</td>\n",
       "    </tr>\n",
       "    <tr>\n",
       "      <th>1</th>\n",
       "      <td>zamanlı üyesi</td>\n",
       "      <td>zamanlı üye</td>\n",
       "      <td>2</td>\n",
       "    </tr>\n",
       "    <tr>\n",
       "      <th>2</th>\n",
       "      <td>öğretim üyesi</td>\n",
       "      <td>öğretim üye</td>\n",
       "      <td>2</td>\n",
       "    </tr>\n",
       "    <tr>\n",
       "      <th>3</th>\n",
       "      <td>üyesi</td>\n",
       "      <td>üye</td>\n",
       "      <td>2</td>\n",
       "    </tr>\n",
       "    <tr>\n",
       "      <th>4</th>\n",
       "      <td>öğretim görevlisi</td>\n",
       "      <td>öğretim görevli</td>\n",
       "      <td>2</td>\n",
       "    </tr>\n",
       "  </tbody>\n",
       "</table>\n",
       "</div>"
      ],
      "text/plain": [
       "                text            lemma  sentence_id\n",
       "0            kampüsü            kampü            0\n",
       "1      zamanlı üyesi      zamanlı üye            2\n",
       "2      öğretim üyesi      öğretim üye            2\n",
       "3              üyesi              üye            2\n",
       "4  öğretim görevlisi  öğretim görevli            2"
      ]
     },
     "execution_count": 20,
     "metadata": {},
     "output_type": "execute_result"
    }
   ],
   "source": [
    "df.head()"
   ]
  },
  {
   "cell_type": "markdown",
   "id": "f740d039",
   "metadata": {},
   "source": [
    "# TF-IDF KW SCORING"
   ]
  },
  {
   "cell_type": "code",
   "execution_count": 22,
   "id": "41ef258d",
   "metadata": {},
   "outputs": [],
   "source": [
    "stopwords_tr = set(stopwords.words('turkish'))"
   ]
  },
  {
   "cell_type": "code",
   "execution_count": 23,
   "id": "8872cf7d",
   "metadata": {},
   "outputs": [],
   "source": [
    "all_lemmas = []\n",
    "for sentence in doc.sentences:\n",
    "    for word in sentence.words:\n",
    "        all_lemmas.append(word.lemma)\n",
    "corpus = ' '.join(all_lemmas)"
   ]
  },
  {
   "cell_type": "code",
   "execution_count": 26,
   "id": "98af4747",
   "metadata": {},
   "outputs": [],
   "source": [
    "vectorizer = TfidfVectorizer(stop_words=stopwords_tr)\n",
    "X = vectorizer.fit_transform([corpus])\n",
    "kw = pd.DataFrame(X.toarray(), columns=vectorizer.get_feature_names()).T"
   ]
  },
  {
   "cell_type": "code",
   "execution_count": 30,
   "id": "b9e88771",
   "metadata": {},
   "outputs": [],
   "source": [
    "tf_idf_scores = dict(kw.reset_index().values)"
   ]
  },
  {
   "cell_type": "code",
   "execution_count": 32,
   "id": "49acddb8",
   "metadata": {},
   "outputs": [],
   "source": [
    "df['lemma'] = df['lemma'].str.split(' ')"
   ]
  },
  {
   "cell_type": "code",
   "execution_count": 33,
   "id": "94fb33cd",
   "metadata": {},
   "outputs": [],
   "source": [
    "df['tf-idf'] = df.lemma.apply(lambda lemmas:sum(filter(lambda element:element,map(scores.get,lemmas)))/len(lemmas))"
   ]
  },
  {
   "cell_type": "code",
   "execution_count": 35,
   "id": "772da1ca",
   "metadata": {},
   "outputs": [],
   "source": [
    "df['tf-idf'] = df['tf-idf']/df['tf-idf'].max()"
   ]
  },
  {
   "cell_type": "code",
   "execution_count": 39,
   "id": "fc1ba67b",
   "metadata": {},
   "outputs": [],
   "source": [
    "df['lemma'] = df['lemma'].apply(lambda l:' '.join(l))"
   ]
  },
  {
   "cell_type": "markdown",
   "id": "9a012cbf",
   "metadata": {},
   "source": [
    "# FREQUENCY SCORING"
   ]
  },
  {
   "cell_type": "code",
   "execution_count": 55,
   "id": "45f95da6",
   "metadata": {},
   "outputs": [],
   "source": [
    "def frequency_ranking(df):\n",
    "    df['occurunces'] = df.groupby('lemma').transform(len)['text']\n",
    "    df['frequency'] = df['occurunces']/df['occurunces'].max()\n",
    "    return df.drop(columns=['occurunces'])"
   ]
  },
  {
   "cell_type": "code",
   "execution_count": 58,
   "id": "0bf47682",
   "metadata": {},
   "outputs": [],
   "source": [
    "df = frequency_ranking(df.copy())"
   ]
  },
  {
   "cell_type": "markdown",
   "id": "0ee1345d",
   "metadata": {},
   "source": [
    "# YAKE SCORING"
   ]
  },
  {
   "cell_type": "code",
   "execution_count": 64,
   "id": "bb813dc6",
   "metadata": {},
   "outputs": [],
   "source": [
    "f = open('simplified-input.txt', 'r')\n",
    "text = f.read()\n",
    "text = text.replace(\"\\n\",'')"
   ]
  },
  {
   "cell_type": "code",
   "execution_count": 66,
   "id": "415625db",
   "metadata": {},
   "outputs": [],
   "source": [
    "def yake_ranking(text, noun_phrases):\n",
    "    language = \"tr\"\n",
    "    max_ngram_size = 2\n",
    "    deduplication_thresold = 0.9\n",
    "    deduplication_algo = 'seqm'\n",
    "    windowSize = 1\n",
    "    numOfKeywords = 100\n",
    "\n",
    "    custom_kw_extractor = yake.KeywordExtractor(lan=language, n=max_ngram_size, dedupLim=deduplication_thresold, dedupFunc=deduplication_algo, windowsSize=windowSize, top=numOfKeywords, features=None)\n",
    "    keywords = custom_kw_extractor.extract_keywords(text)\n",
    "    \n",
    "    yake_keywords=[]\n",
    "    for kw in keywords:\n",
    "        if kw[0] in list(noun_phrases['text']):\n",
    "            yake_keywords.append(kw)\n",
    "            \n",
    "    yake_ranks=pd.DataFrame(yake_keywords,columns=['text','point']).merge(noun_phrases[['text','lemma']]).drop_duplicates().groupby('lemma').min('point')\n",
    "    yake_ranks['point']=yake_ranks['point']/yake_ranks['point'].max()\n",
    "    yake_ranks['point']=1-yake_ranks['point']\n",
    "    yake_ranks['point']=yake_ranks['point']/yake_ranks['point'].max()\n",
    "    return yake_ranks.sort_values('point',ascending=False).rename(columns={'point':'yake_points'})"
   ]
  },
  {
   "cell_type": "code",
   "execution_count": 68,
   "id": "254993d9",
   "metadata": {},
   "outputs": [],
   "source": [
    "yake_scores = yake_ranking(text,df)"
   ]
  },
  {
   "cell_type": "code",
   "execution_count": 78,
   "id": "5be56e5c",
   "metadata": {},
   "outputs": [],
   "source": [
    "df = df.groupby('lemma').max('tf-idf')"
   ]
  },
  {
   "cell_type": "code",
   "execution_count": 87,
   "id": "26c760f0",
   "metadata": {},
   "outputs": [],
   "source": [
    "df = pd.concat([df,yake_scores],axis=1).fillna(0).drop('sentence_id',axis=1).reset_index()"
   ]
  },
  {
   "cell_type": "code",
   "execution_count": 95,
   "id": "7b5e6015",
   "metadata": {},
   "outputs": [
    {
     "data": {
      "text/html": [
       "<div>\n",
       "<style scoped>\n",
       "    .dataframe tbody tr th:only-of-type {\n",
       "        vertical-align: middle;\n",
       "    }\n",
       "\n",
       "    .dataframe tbody tr th {\n",
       "        vertical-align: top;\n",
       "    }\n",
       "\n",
       "    .dataframe thead th {\n",
       "        text-align: right;\n",
       "    }\n",
       "</style>\n",
       "<table border=\"1\" class=\"dataframe\">\n",
       "  <thead>\n",
       "    <tr style=\"text-align: right;\">\n",
       "      <th></th>\n",
       "      <th>tf-idf</th>\n",
       "      <th>frequency</th>\n",
       "      <th>yake_points</th>\n",
       "      <th>score</th>\n",
       "    </tr>\n",
       "    <tr>\n",
       "      <th>lemma</th>\n",
       "      <th></th>\n",
       "      <th></th>\n",
       "      <th></th>\n",
       "      <th></th>\n",
       "    </tr>\n",
       "  </thead>\n",
       "  <tbody>\n",
       "    <tr>\n",
       "      <th>öğrenci</th>\n",
       "      <td>1.000000</td>\n",
       "      <td>1.0000</td>\n",
       "      <td>1.000000</td>\n",
       "      <td>3.000000</td>\n",
       "    </tr>\n",
       "    <tr>\n",
       "      <th>kayıt iş</th>\n",
       "      <td>0.285714</td>\n",
       "      <td>0.3125</td>\n",
       "      <td>0.952058</td>\n",
       "      <td>1.550272</td>\n",
       "    </tr>\n",
       "    <tr>\n",
       "      <th>elektronik dilekçe</th>\n",
       "      <td>0.185714</td>\n",
       "      <td>0.3125</td>\n",
       "      <td>0.871787</td>\n",
       "      <td>1.370001</td>\n",
       "    </tr>\n",
       "    <tr>\n",
       "      <th>iş</th>\n",
       "      <td>0.171429</td>\n",
       "      <td>0.1875</td>\n",
       "      <td>0.806881</td>\n",
       "      <td>1.165809</td>\n",
       "    </tr>\n",
       "    <tr>\n",
       "      <th>tarih</th>\n",
       "      <td>0.142857</td>\n",
       "      <td>0.1250</td>\n",
       "      <td>0.852641</td>\n",
       "      <td>1.120498</td>\n",
       "    </tr>\n",
       "  </tbody>\n",
       "</table>\n",
       "</div>"
      ],
      "text/plain": [
       "                      tf-idf  frequency  yake_points     score\n",
       "lemma                                                         \n",
       "öğrenci             1.000000     1.0000     1.000000  3.000000\n",
       "kayıt iş            0.285714     0.3125     0.952058  1.550272\n",
       "elektronik dilekçe  0.185714     0.3125     0.871787  1.370001\n",
       "iş                  0.171429     0.1875     0.806881  1.165809\n",
       "tarih               0.142857     0.1250     0.852641  1.120498"
      ]
     },
     "execution_count": 95,
     "metadata": {},
     "output_type": "execute_result"
    }
   ],
   "source": [
    "df['score'] = df.sum(axis=1)\n",
    "df.sort_values('score',ascending=False).head(5)"
   ]
  },
  {
   "cell_type": "markdown",
   "id": "78af37df",
   "metadata": {},
   "source": [
    "# PHRASE RELATIONS"
   ]
  },
  {
   "cell_type": "code",
   "execution_count": 96,
   "id": "5fcc2d59",
   "metadata": {},
   "outputs": [],
   "source": [
    "def get_point(phrase1,phrase2):\n",
    "    count = 0\n",
    "    for sentence in doc.sentences:\n",
    "        current_sentence = []\n",
    "        for word in sentence.words:\n",
    "            current_sentence.append(word.lemma)\n",
    "        current_sentence = ' '.join(current_sentence)\n",
    "        if phrase1 in current_sentence and phrase2 in current_sentence:\n",
    "            count += 1\n",
    "    return count"
   ]
  },
  {
   "cell_type": "code",
   "execution_count": 122,
   "id": "bb347b9b",
   "metadata": {},
   "outputs": [],
   "source": [
    "lemmas = df['lemma'].unique()"
   ]
  },
  {
   "cell_type": "code",
   "execution_count": 126,
   "id": "19e5f266",
   "metadata": {},
   "outputs": [],
   "source": [
    "ph_pairs = pd.DataFrame(itertools.combinations(lemmas,r=2))"
   ]
  },
  {
   "cell_type": "code",
   "execution_count": 128,
   "id": "bd6855a8",
   "metadata": {},
   "outputs": [],
   "source": [
    "ph_pairs.columns = ['l1','l2']"
   ]
  },
  {
   "cell_type": "code",
   "execution_count": 129,
   "id": "fb2d88a9",
   "metadata": {},
   "outputs": [],
   "source": [
    "ph_pairs['score'] = ph_pairs.apply(lambda row:get_point(row['l1'],row['l2']),axis=1)"
   ]
  },
  {
   "cell_type": "code",
   "execution_count": 135,
   "id": "fd232454",
   "metadata": {},
   "outputs": [],
   "source": [
    "lemma_scores = dict(df[['lemma','score']].values)"
   ]
  },
  {
   "cell_type": "code",
   "execution_count": 138,
   "id": "50759075",
   "metadata": {},
   "outputs": [],
   "source": [
    "ph_pairs['l1_score'] = list(map(lemma_scores.get,ph_pairs.l1))\n",
    "ph_pairs['l2_score'] = list(map(lemma_scores.get,ph_pairs.l2))"
   ]
  },
  {
   "cell_type": "markdown",
   "id": "268fa967",
   "metadata": {},
   "source": [
    "# Word Grouping"
   ]
  },
  {
   "cell_type": "code",
   "execution_count": 155,
   "id": "ae25176e",
   "metadata": {},
   "outputs": [],
   "source": [
    "df['len'] = df.lemma.apply(lambda ph:len(ph.split(' ')))"
   ]
  },
  {
   "cell_type": "code",
   "execution_count": 157,
   "id": "5f540643",
   "metadata": {},
   "outputs": [],
   "source": [
    "one_word_phrases = set(df[df.len==1].lemma.unique().tolist())"
   ]
  },
  {
   "cell_type": "code",
   "execution_count": 162,
   "id": "0bc17e68",
   "metadata": {},
   "outputs": [],
   "source": [
    "df['group'] = df.lemma.apply(lambda l: next(iter(list(set(l.split(' ')).intersection(one_word_phrases))), None))"
   ]
  },
  {
   "cell_type": "code",
   "execution_count": 169,
   "id": "0e4a7876",
   "metadata": {},
   "outputs": [],
   "source": [
    "df['members'] = df.apply(lambda r:[{'key':r['lemma'],'value':r['score']}],axis=1)"
   ]
  },
  {
   "cell_type": "code",
   "execution_count": 192,
   "id": "840c2653",
   "metadata": {},
   "outputs": [],
   "source": [
    "temp = df.groupby('group')[['members']].sum()"
   ]
  },
  {
   "cell_type": "code",
   "execution_count": 193,
   "id": "09fe9891",
   "metadata": {},
   "outputs": [],
   "source": [
    "temp['rep'] = temp.members.apply(lambda lst:max(lst, key=lambda x:x['value']))"
   ]
  },
  {
   "cell_type": "code",
   "execution_count": 194,
   "id": "b5058a9d",
   "metadata": {},
   "outputs": [],
   "source": [
    "temp['key'] = list(map(lambda e:e['key'],temp['rep']))\n",
    "temp['value'] = list(map(lambda e:e['value'],temp['rep']))"
   ]
  },
  {
   "cell_type": "code",
   "execution_count": 197,
   "id": "5d2bb296",
   "metadata": {},
   "outputs": [
    {
     "data": {
      "text/html": [
       "<div>\n",
       "<style scoped>\n",
       "    .dataframe tbody tr th:only-of-type {\n",
       "        vertical-align: middle;\n",
       "    }\n",
       "\n",
       "    .dataframe tbody tr th {\n",
       "        vertical-align: top;\n",
       "    }\n",
       "\n",
       "    .dataframe thead th {\n",
       "        text-align: right;\n",
       "    }\n",
       "</style>\n",
       "<table border=\"1\" class=\"dataframe\">\n",
       "  <thead>\n",
       "    <tr style=\"text-align: right;\">\n",
       "      <th></th>\n",
       "      <th>members</th>\n",
       "      <th>rep</th>\n",
       "      <th>key</th>\n",
       "      <th>value</th>\n",
       "      <th>group_size</th>\n",
       "    </tr>\n",
       "    <tr>\n",
       "      <th>group</th>\n",
       "      <th></th>\n",
       "      <th></th>\n",
       "      <th></th>\n",
       "      <th></th>\n",
       "      <th></th>\n",
       "    </tr>\n",
       "  </thead>\n",
       "  <tbody>\n",
       "    <tr>\n",
       "      <th>başvuru</th>\n",
       "      <td>[{'key': 'başvuru', 'value': 0.119642857142857...</td>\n",
       "      <td>{'key': 'başvuru', 'value': 0.11964285714285713}</td>\n",
       "      <td>başvuru</td>\n",
       "      <td>0.119643</td>\n",
       "      <td>2</td>\n",
       "    </tr>\n",
       "    <tr>\n",
       "      <th>belge</th>\n",
       "      <td>[{'key': 'belge', 'value': 0.11964285714285713}]</td>\n",
       "      <td>{'key': 'belge', 'value': 0.11964285714285713}</td>\n",
       "      <td>belge</td>\n",
       "      <td>0.119643</td>\n",
       "      <td>1</td>\n",
       "    </tr>\n",
       "    <tr>\n",
       "      <th>bilgi</th>\n",
       "      <td>[{'key': 'bilgi', 'value': 0.4625091945214297}...</td>\n",
       "      <td>{'key': 'bilgi', 'value': 0.4625091945214297}</td>\n",
       "      <td>bilgi</td>\n",
       "      <td>0.462509</td>\n",
       "      <td>7</td>\n",
       "    </tr>\n",
       "    <tr>\n",
       "      <th>bölüm</th>\n",
       "      <td>[{'key': 'bölüm', 'value': 0.11964285714285713}]</td>\n",
       "      <td>{'key': 'bölüm', 'value': 0.11964285714285713}</td>\n",
       "      <td>bölüm</td>\n",
       "      <td>0.119643</td>\n",
       "      <td>1</td>\n",
       "    </tr>\n",
       "    <tr>\n",
       "      <th>danışman</th>\n",
       "      <td>[{'key': 'akademik danışman', 'value': 0.33928...</td>\n",
       "      <td>{'key': 'danışman', 'value': 1.072295842780032}</td>\n",
       "      <td>danışman</td>\n",
       "      <td>1.072296</td>\n",
       "      <td>3</td>\n",
       "    </tr>\n",
       "  </tbody>\n",
       "</table>\n",
       "</div>"
      ],
      "text/plain": [
       "                                                    members  \\\n",
       "group                                                         \n",
       "başvuru   [{'key': 'başvuru', 'value': 0.119642857142857...   \n",
       "belge      [{'key': 'belge', 'value': 0.11964285714285713}]   \n",
       "bilgi     [{'key': 'bilgi', 'value': 0.4625091945214297}...   \n",
       "bölüm      [{'key': 'bölüm', 'value': 0.11964285714285713}]   \n",
       "danışman  [{'key': 'akademik danışman', 'value': 0.33928...   \n",
       "\n",
       "                                                       rep       key  \\\n",
       "group                                                                  \n",
       "başvuru   {'key': 'başvuru', 'value': 0.11964285714285713}   başvuru   \n",
       "belge       {'key': 'belge', 'value': 0.11964285714285713}     belge   \n",
       "bilgi        {'key': 'bilgi', 'value': 0.4625091945214297}     bilgi   \n",
       "bölüm       {'key': 'bölüm', 'value': 0.11964285714285713}     bölüm   \n",
       "danışman   {'key': 'danışman', 'value': 1.072295842780032}  danışman   \n",
       "\n",
       "             value  group_size  \n",
       "group                           \n",
       "başvuru   0.119643           2  \n",
       "belge     0.119643           1  \n",
       "bilgi     0.462509           7  \n",
       "bölüm     0.119643           1  \n",
       "danışman  1.072296           3  "
      ]
     },
     "execution_count": 197,
     "metadata": {},
     "output_type": "execute_result"
    }
   ],
   "source": [
    "temp.head(5)"
   ]
  },
  {
   "cell_type": "code",
   "execution_count": 234,
   "id": "1b2ffd04",
   "metadata": {},
   "outputs": [],
   "source": [
    "concept_scores = dict(temp[['key','value']].values)"
   ]
  },
  {
   "cell_type": "code",
   "execution_count": 205,
   "id": "f1c55846",
   "metadata": {},
   "outputs": [],
   "source": [
    "similarities = []\n",
    "for i in concept_scores.keys():\n",
    "    similar = [j for j in concept_scores.keys() if (i in j or j in i) and i!=j]\n",
    "    similarities.append({'key':i,'values':similar})"
   ]
  },
  {
   "cell_type": "code",
   "execution_count": 207,
   "id": "aa4a525a",
   "metadata": {},
   "outputs": [],
   "source": [
    "for i in similarities:\n",
    "    for j in similarities:\n",
    "        si = set(i['values'])\n",
    "        sj = set(j['values'])\n",
    "        if sj.intersection(si):\n",
    "            i['values'] = list(sj.union(si))\n",
    "            j['values'] = list(sj.union(si))"
   ]
  },
  {
   "cell_type": "code",
   "execution_count": 209,
   "id": "6e97c717",
   "metadata": {},
   "outputs": [],
   "source": [
    "for i,s in enumerate(similarities):\n",
    "    key_point = concept_scores[s['key']]\n",
    "    if [j for j in s['values'] if concept_scores[j]>key_point]:\n",
    "        similarities.pop(i)"
   ]
  },
  {
   "cell_type": "code",
   "execution_count": 233,
   "id": "6e64e7cf",
   "metadata": {},
   "outputs": [],
   "source": [
    "groups = [i['key'] for i in similarities]"
   ]
  },
  {
   "cell_type": "code",
   "execution_count": 212,
   "id": "7bb43c1b",
   "metadata": {},
   "outputs": [],
   "source": [
    "temp['final_group'] = temp.apply(lambda r:r['key'] if r['key'] in groups else [i for i in groups if i in r['key'] or r['key'] in i][0],axis=1)"
   ]
  },
  {
   "cell_type": "code",
   "execution_count": 223,
   "id": "3e4b9257",
   "metadata": {},
   "outputs": [],
   "source": [
    "final = temp[['final_group','members']].reset_index().copy()"
   ]
  },
  {
   "cell_type": "code",
   "execution_count": 224,
   "id": "44597584",
   "metadata": {},
   "outputs": [],
   "source": [
    "final['values'] = list(map(concept_scores.get,final['final_group']))"
   ]
  },
  {
   "cell_type": "code",
   "execution_count": 225,
   "id": "99cc5619",
   "metadata": {},
   "outputs": [],
   "source": [
    "final = final.groupby('final_group').agg({'values':'mean','members':'sum'}).reset_index()"
   ]
  },
  {
   "cell_type": "code",
   "execution_count": 227,
   "id": "f759c3f3",
   "metadata": {},
   "outputs": [],
   "source": [
    "final['members'] = final['members'].apply(lambda r:[x for i, x in enumerate(r) if i == r.index(x)])\n",
    "final['members_size'] = final.members.apply(len)"
   ]
  },
  {
   "cell_type": "code",
   "execution_count": 231,
   "id": "e8df43c8",
   "metadata": {},
   "outputs": [],
   "source": [
    "final['members'] = final['members'].apply(lambda l:sorted(l, key=lambda d: d['value'],reverse=True) )"
   ]
  },
  {
   "cell_type": "code",
   "execution_count": 235,
   "id": "fee1d520",
   "metadata": {},
   "outputs": [
    {
     "data": {
      "text/html": [
       "<div>\n",
       "<style scoped>\n",
       "    .dataframe tbody tr th:only-of-type {\n",
       "        vertical-align: middle;\n",
       "    }\n",
       "\n",
       "    .dataframe tbody tr th {\n",
       "        vertical-align: top;\n",
       "    }\n",
       "\n",
       "    .dataframe thead th {\n",
       "        text-align: right;\n",
       "    }\n",
       "</style>\n",
       "<table border=\"1\" class=\"dataframe\">\n",
       "  <thead>\n",
       "    <tr style=\"text-align: right;\">\n",
       "      <th></th>\n",
       "      <th>final_group</th>\n",
       "      <th>values</th>\n",
       "      <th>members</th>\n",
       "      <th>members_size</th>\n",
       "    </tr>\n",
       "  </thead>\n",
       "  <tbody>\n",
       "    <tr>\n",
       "      <th>0</th>\n",
       "      <td>başvuru</td>\n",
       "      <td>0.119643</td>\n",
       "      <td>[{'key': 'başvuru', 'value': 0.119642857142857...</td>\n",
       "      <td>2</td>\n",
       "    </tr>\n",
       "    <tr>\n",
       "      <th>1</th>\n",
       "      <td>belge</td>\n",
       "      <td>0.119643</td>\n",
       "      <td>[{'key': 'belge', 'value': 0.11964285714285713}]</td>\n",
       "      <td>1</td>\n",
       "    </tr>\n",
       "    <tr>\n",
       "      <th>2</th>\n",
       "      <td>bilgi</td>\n",
       "      <td>0.462509</td>\n",
       "      <td>[{'key': 'bilgi', 'value': 0.4625091945214297}...</td>\n",
       "      <td>7</td>\n",
       "    </tr>\n",
       "    <tr>\n",
       "      <th>3</th>\n",
       "      <td>bölüm</td>\n",
       "      <td>0.119643</td>\n",
       "      <td>[{'key': 'bölüm', 'value': 0.11964285714285713}]</td>\n",
       "      <td>1</td>\n",
       "    </tr>\n",
       "    <tr>\n",
       "      <th>4</th>\n",
       "      <td>danışman</td>\n",
       "      <td>1.072296</td>\n",
       "      <td>[{'key': 'danışman', 'value': 1.07229584278003...</td>\n",
       "      <td>3</td>\n",
       "    </tr>\n",
       "  </tbody>\n",
       "</table>\n",
       "</div>"
      ],
      "text/plain": [
       "  final_group    values                                            members  \\\n",
       "0     başvuru  0.119643  [{'key': 'başvuru', 'value': 0.119642857142857...   \n",
       "1       belge  0.119643   [{'key': 'belge', 'value': 0.11964285714285713}]   \n",
       "2       bilgi  0.462509  [{'key': 'bilgi', 'value': 0.4625091945214297}...   \n",
       "3       bölüm  0.119643   [{'key': 'bölüm', 'value': 0.11964285714285713}]   \n",
       "4    danışman  1.072296  [{'key': 'danışman', 'value': 1.07229584278003...   \n",
       "\n",
       "   members_size  \n",
       "0             2  \n",
       "1             1  \n",
       "2             7  \n",
       "3             1  \n",
       "4             3  "
      ]
     },
     "execution_count": 235,
     "metadata": {},
     "output_type": "execute_result"
    }
   ],
   "source": [
    "final.head(5)"
   ]
  },
  {
   "cell_type": "markdown",
   "id": "698c0166",
   "metadata": {},
   "source": [
    "# Found group representatives are matched with pairs"
   ]
  },
  {
   "cell_type": "code",
   "execution_count": 232,
   "id": "00ff1b83",
   "metadata": {},
   "outputs": [],
   "source": [
    "def find_group(kw):\n",
    "    if len(final[final.final_group == kw])>0:\n",
    "        return kw\n",
    "    else:\n",
    "        for i in final.final_group.tolist():\n",
    "            if kw in i or i in kw:\n",
    "                return i"
   ]
  },
  {
   "cell_type": "code",
   "execution_count": 237,
   "id": "79e0745a",
   "metadata": {},
   "outputs": [],
   "source": [
    "ph_pairs['l1_group'] = ph_pairs['l1'].apply(find_group)\n",
    "ph_pairs['l2_group'] = ph_pairs['l2'].apply(find_group)"
   ]
  },
  {
   "cell_type": "code",
   "execution_count": 434,
   "id": "f0a99937",
   "metadata": {},
   "outputs": [],
   "source": [
    "def get_info(kw):\n",
    "    global used_attributes\n",
    "    relation_th = 0.5\n",
    "    cut_th = 0.2\n",
    "    relations = []\n",
    "    attributes = []\n",
    "    temp = ph_pairs[ph_pairs.l1_group==kw]\n",
    "    _max = np.percentile(temp.score,50)\n",
    "    if (len(temp[temp.score>max([_max,2])]) > 2) and (concept_scores[kw]>relation_th):\n",
    "        relations = temp[temp.l2_score > relation_th].l2_group.dropna().unique().tolist()\n",
    "        attributes = temp[((temp.l2_score <= relation_th ) &  (temp.l2_score > cut_th))][['l2','l2_score']].drop_duplicates().to_records(index=False).tolist()\n",
    "        attributes = (attributes +\n",
    "            temp[temp.l1_group==temp.l2_group][['l2','l2_score']].drop_duplicates().to_records(index=False).tolist())\n",
    "        attributes = sorted(attributes, key=lambda d: d[1],reverse=True) \n",
    "        attributes = list(filter(lambda e:e[1]>concept_scores[kw]/5,attributes))\n",
    "        attributes = list(filter(lambda e:e[0] not in used_attributes,attributes))\n",
    "        attributes = attributes[:5]\n",
    "        attributes = list(map(lambda e:e[0],attributes))\n",
    "        used_attributes = used_attributes + attributes\n",
    "        return relations,attributes\n",
    "    return [],[]"
   ]
  },
  {
   "cell_type": "code",
   "execution_count": 435,
   "id": "07161b93",
   "metadata": {},
   "outputs": [],
   "source": [
    "used_attributes = []\n",
    "final[['relations','attributes']] = final.apply(lambda r:get_info(r['final_group']),axis=1,result_type='expand')"
   ]
  },
  {
   "cell_type": "code",
   "execution_count": 436,
   "id": "257a3e61",
   "metadata": {},
   "outputs": [],
   "source": [
    "final['attributes'] = final.apply(lambda l:[i for i in l['attributes'] if i!=l['final_group']],axis=1)"
   ]
  },
  {
   "cell_type": "markdown",
   "id": "051d970f",
   "metadata": {},
   "source": [
    "# Visualization"
   ]
  },
  {
   "cell_type": "code",
   "execution_count": 437,
   "id": "34852eb5",
   "metadata": {},
   "outputs": [],
   "source": [
    "relations_temp = final.apply(lambda r:[(r['final_group'],i) for i in r['relations']],axis=1).sum()"
   ]
  },
  {
   "cell_type": "code",
   "execution_count": 438,
   "id": "71bdba9b",
   "metadata": {},
   "outputs": [],
   "source": [
    "relations = []\n",
    "for i in relations_temp:\n",
    "    if i[0] != i[1]:\n",
    "        relations.append({i[0], i[1]})"
   ]
  },
  {
   "cell_type": "code",
   "execution_count": 439,
   "id": "223359d3",
   "metadata": {},
   "outputs": [],
   "source": [
    "relations = [x for i, x in enumerate(relations) if i == relations.index(x)]"
   ]
  },
  {
   "cell_type": "code",
   "execution_count": 440,
   "id": "4a33e152",
   "metadata": {},
   "outputs": [],
   "source": [
    "relations = [tuple(i) for i in relations]"
   ]
  },
  {
   "cell_type": "code",
   "execution_count": 441,
   "id": "7488ebd3",
   "metadata": {},
   "outputs": [],
   "source": [
    "concepts = final[['final_group','attributes']].rename(columns={'final_group':'concept'}).to_dict(orient='records')"
   ]
  },
  {
   "cell_type": "code",
   "execution_count": 442,
   "id": "55a0dd8d",
   "metadata": {},
   "outputs": [],
   "source": [
    "def create_concept(c_dict):\n",
    "    concept_attributes=\"\"\n",
    "    concept_attributes+=c_dict['concept']\n",
    "    for attribute in c_dict['attributes']:\n",
    "        concept_attributes+= '\\n- ' + attribute\n",
    "    return concept_attributes"
   ]
  },
  {
   "cell_type": "code",
   "execution_count": 443,
   "id": "ba755594",
   "metadata": {},
   "outputs": [],
   "source": [
    "def create_concept_node(concepts):\n",
    "    for concept in concepts:\n",
    "        concept_str=create_concept(concept)\n",
    "        diagram.node(concept['concept'], concept_str,shape='box')"
   ]
  },
  {
   "cell_type": "code",
   "execution_count": 444,
   "id": "33fc0c7b",
   "metadata": {},
   "outputs": [],
   "source": [
    "def create_relations(relations):\n",
    "    for relation in relations:\n",
    "        diagram.edge(relation[0],relation[1])"
   ]
  },
  {
   "cell_type": "code",
   "execution_count": 445,
   "id": "259f96ca",
   "metadata": {},
   "outputs": [],
   "source": [
    "diagram = graphviz.Graph('G', filename='process.gv', engine='dot')"
   ]
  },
  {
   "cell_type": "code",
   "execution_count": 446,
   "id": "59882314",
   "metadata": {},
   "outputs": [],
   "source": [
    "create_concept_node(concepts)\n",
    "\n",
    "create_relations(relations)"
   ]
  },
  {
   "cell_type": "code",
   "execution_count": 447,
   "id": "5e1cd658",
   "metadata": {},
   "outputs": [
    {
     "data": {
      "text/plain": [
       "[{'concept': 'başvuru', 'attributes': []},\n",
       " {'concept': 'belge', 'attributes': []},\n",
       " {'concept': 'bilgi', 'attributes': []},\n",
       " {'concept': 'bölüm', 'attributes': []},\n",
       " {'concept': 'danışman',\n",
       "  'attributes': ['öğrenci danışman', 'dönem', 'bilgi', 'ders kayıt']},\n",
       " {'concept': 'ders',\n",
       "  'attributes': ['ders liste',\n",
       "   'ders program',\n",
       "   'ders şube',\n",
       "   'şube ders',\n",
       "   'ders şube']},\n",
       " {'concept': 'doküman', 'attributes': []},\n",
       " {'concept': 'dönem', 'attributes': []},\n",
       " {'concept': 'elektronik dilekçe',\n",
       "  'attributes': ['not', 'öğretim eleman', 'program', 'tarih bilgi']},\n",
       " {'concept': 'eğ', 'attributes': []},\n",
       " {'concept': 'eğitmen taraf', 'attributes': []},\n",
       " {'concept': 'görevli', 'attributes': []},\n",
       " {'concept': 'harf not', 'attributes': []},\n",
       " {'concept': 'içerik', 'attributes': []},\n",
       " {'concept': 'kampü', 'attributes': []},\n",
       " {'concept': 'kayıt iş', 'attributes': []},\n",
       " {'concept': 'kota', 'attributes': []},\n",
       " {'concept': 'kullanıcı', 'attributes': []},\n",
       " {'concept': 'program', 'attributes': []},\n",
       " {'concept': 'talebi', 'attributes': []},\n",
       " {'concept': 'tarih', 'attributes': []},\n",
       " {'concept': 'transkript', 'attributes': []},\n",
       " {'concept': 'öğrenci', 'attributes': []},\n",
       " {'concept': 'öğretim üye', 'attributes': []},\n",
       " {'concept': 'şube', 'attributes': []}]"
      ]
     },
     "execution_count": 447,
     "metadata": {},
     "output_type": "execute_result"
    }
   ],
   "source": [
    "concepts"
   ]
  },
  {
   "cell_type": "code",
   "execution_count": 448,
   "id": "4270a58d",
   "metadata": {},
   "outputs": [
    {
     "data": {
      "image/svg+xml": [
       "<?xml version=\"1.0\" encoding=\"UTF-8\" standalone=\"no\"?>\n",
       "<!DOCTYPE svg PUBLIC \"-//W3C//DTD SVG 1.1//EN\"\n",
       " \"http://www.w3.org/Graphics/SVG/1.1/DTD/svg11.dtd\">\n",
       "<!-- Generated by graphviz version 3.0.0 (20220226.1711)\n",
       " -->\n",
       "<!-- Title: G Pages: 1 -->\n",
       "<svg width=\"1237pt\" height=\"704pt\"\n",
       " viewBox=\"0.00 0.00 1237.03 704.00\" xmlns=\"http://www.w3.org/2000/svg\" xmlns:xlink=\"http://www.w3.org/1999/xlink\">\n",
       "<g id=\"graph0\" class=\"graph\" transform=\"scale(1 1) rotate(0) translate(4 700)\">\n",
       "<title>G</title>\n",
       "<polygon fill=\"white\" stroke=\"transparent\" points=\"-4,4 -4,-700 1233.03,-700 1233.03,4 -4,4\"/>\n",
       "<!-- başvuru -->\n",
       "<g id=\"node1\" class=\"node\">\n",
       "<title>başvuru</title>\n",
       "<polygon fill=\"none\" stroke=\"black\" points=\"331.03,-696 272.03,-696 272.03,-660 331.03,-660 331.03,-696\"/>\n",
       "<text text-anchor=\"middle\" x=\"301.53\" y=\"-674.3\" font-family=\"Times,serif\" font-size=\"14.00\">başvuru</text>\n",
       "</g>\n",
       "<!-- belge -->\n",
       "<g id=\"node2\" class=\"node\">\n",
       "<title>belge</title>\n",
       "<polygon fill=\"none\" stroke=\"black\" points=\"216.53,-36 162.53,-36 162.53,0 216.53,0 216.53,-36\"/>\n",
       "<text text-anchor=\"middle\" x=\"189.53\" y=\"-14.3\" font-family=\"Times,serif\" font-size=\"14.00\">belge</text>\n",
       "</g>\n",
       "<!-- bilgi -->\n",
       "<g id=\"node3\" class=\"node\">\n",
       "<title>bilgi</title>\n",
       "<polygon fill=\"none\" stroke=\"black\" points=\"310.53,-227 256.53,-227 256.53,-191 310.53,-191 310.53,-227\"/>\n",
       "<text text-anchor=\"middle\" x=\"283.53\" y=\"-205.3\" font-family=\"Times,serif\" font-size=\"14.00\">bilgi</text>\n",
       "</g>\n",
       "<!-- danışman -->\n",
       "<g id=\"node5\" class=\"node\">\n",
       "<title>danışman</title>\n",
       "<polygon fill=\"none\" stroke=\"black\" points=\"564.53,-155 442.53,-155 442.53,-72 564.53,-72 564.53,-155\"/>\n",
       "<text text-anchor=\"middle\" x=\"503.53\" y=\"-139.8\" font-family=\"Times,serif\" font-size=\"14.00\">danışman</text>\n",
       "<text text-anchor=\"middle\" x=\"503.53\" y=\"-124.8\" font-family=\"Times,serif\" font-size=\"14.00\">&#45; öğrenci danışman</text>\n",
       "<text text-anchor=\"middle\" x=\"503.53\" y=\"-109.8\" font-family=\"Times,serif\" font-size=\"14.00\">&#45; dönem</text>\n",
       "<text text-anchor=\"middle\" x=\"503.53\" y=\"-94.8\" font-family=\"Times,serif\" font-size=\"14.00\">&#45; bilgi</text>\n",
       "<text text-anchor=\"middle\" x=\"503.53\" y=\"-79.8\" font-family=\"Times,serif\" font-size=\"14.00\">&#45; ders kayıt</text>\n",
       "</g>\n",
       "<!-- bilgi&#45;&#45;danışman -->\n",
       "<g id=\"edge11\" class=\"edge\">\n",
       "<title>bilgi&#45;&#45;danışman</title>\n",
       "<path fill=\"none\" stroke=\"black\" d=\"M310.94,-196.35C343.66,-182.44 399.33,-158.78 442.43,-140.47\"/>\n",
       "</g>\n",
       "<!-- bölüm -->\n",
       "<g id=\"node4\" class=\"node\">\n",
       "<title>bölüm</title>\n",
       "<polygon fill=\"none\" stroke=\"black\" points=\"477.53,-696 423.53,-696 423.53,-660 477.53,-660 477.53,-696\"/>\n",
       "<text text-anchor=\"middle\" x=\"450.53\" y=\"-674.3\" font-family=\"Times,serif\" font-size=\"14.00\">bölüm</text>\n",
       "</g>\n",
       "<!-- danışman&#45;&#45;belge -->\n",
       "<g id=\"edge10\" class=\"edge\">\n",
       "<title>danışman&#45;&#45;belge</title>\n",
       "<path fill=\"none\" stroke=\"black\" d=\"M442.24,-94.25C373.88,-73.9 266.38,-41.89 216.55,-27.05\"/>\n",
       "</g>\n",
       "<!-- görevli -->\n",
       "<g id=\"node12\" class=\"node\">\n",
       "<title>görevli</title>\n",
       "<polygon fill=\"none\" stroke=\"black\" points=\"367.03,-36 312.03,-36 312.03,0 367.03,0 367.03,-36\"/>\n",
       "<text text-anchor=\"middle\" x=\"339.53\" y=\"-14.3\" font-family=\"Times,serif\" font-size=\"14.00\">görevli</text>\n",
       "</g>\n",
       "<!-- danışman&#45;&#45;görevli -->\n",
       "<g id=\"edge3\" class=\"edge\">\n",
       "<title>danışman&#45;&#45;görevli</title>\n",
       "<path fill=\"none\" stroke=\"black\" d=\"M442.46,-77.68C416.59,-62.94 387.75,-46.5 367.2,-34.78\"/>\n",
       "</g>\n",
       "<!-- kampü -->\n",
       "<g id=\"node15\" class=\"node\">\n",
       "<title>kampü</title>\n",
       "<polygon fill=\"none\" stroke=\"black\" points=\"477.53,-36 423.53,-36 423.53,0 477.53,0 477.53,-36\"/>\n",
       "<text text-anchor=\"middle\" x=\"450.53\" y=\"-14.3\" font-family=\"Times,serif\" font-size=\"14.00\">kampü</text>\n",
       "</g>\n",
       "<!-- danışman&#45;&#45;kampü -->\n",
       "<g id=\"edge6\" class=\"edge\">\n",
       "<title>danışman&#45;&#45;kampü</title>\n",
       "<path fill=\"none\" stroke=\"black\" d=\"M480.43,-71.76C473.4,-59.36 466.05,-46.39 460.39,-36.41\"/>\n",
       "</g>\n",
       "<!-- talebi -->\n",
       "<g id=\"node20\" class=\"node\">\n",
       "<title>talebi</title>\n",
       "<polygon fill=\"none\" stroke=\"black\" points=\"749.53,-36 695.53,-36 695.53,0 749.53,0 749.53,-36\"/>\n",
       "<text text-anchor=\"middle\" x=\"722.53\" y=\"-14.3\" font-family=\"Times,serif\" font-size=\"14.00\">talebi</text>\n",
       "</g>\n",
       "<!-- danışman&#45;&#45;talebi -->\n",
       "<g id=\"edge8\" class=\"edge\">\n",
       "<title>danışman&#45;&#45;talebi</title>\n",
       "<path fill=\"none\" stroke=\"black\" d=\"M564.53,-86.46C607.43,-68.14 662.79,-44.5 695.3,-30.63\"/>\n",
       "</g>\n",
       "<!-- tarih -->\n",
       "<g id=\"node21\" class=\"node\">\n",
       "<title>tarih</title>\n",
       "<polygon fill=\"none\" stroke=\"black\" points=\"899.53,-36 845.53,-36 845.53,0 899.53,0 899.53,-36\"/>\n",
       "<text text-anchor=\"middle\" x=\"872.53\" y=\"-14.3\" font-family=\"Times,serif\" font-size=\"14.00\">tarih</text>\n",
       "</g>\n",
       "<!-- danışman&#45;&#45;tarih -->\n",
       "<g id=\"edge9\" class=\"edge\">\n",
       "<title>danışman&#45;&#45;tarih</title>\n",
       "<path fill=\"none\" stroke=\"black\" d=\"M564.87,-96.96C646.23,-76.34 786.39,-40.83 845.25,-25.91\"/>\n",
       "</g>\n",
       "<!-- şube -->\n",
       "<g id=\"node25\" class=\"node\">\n",
       "<title>şube</title>\n",
       "<polygon fill=\"none\" stroke=\"black\" points=\"649.53,-36 595.53,-36 595.53,0 649.53,0 649.53,-36\"/>\n",
       "<text text-anchor=\"middle\" x=\"622.53\" y=\"-14.3\" font-family=\"Times,serif\" font-size=\"14.00\">şube</text>\n",
       "</g>\n",
       "<!-- danışman&#45;&#45;şube -->\n",
       "<g id=\"edge13\" class=\"edge\">\n",
       "<title>danışman&#45;&#45;şube</title>\n",
       "<path fill=\"none\" stroke=\"black\" d=\"M555.37,-71.76C571.28,-59.26 587.93,-46.18 600.68,-36.17\"/>\n",
       "</g>\n",
       "<!-- ders -->\n",
       "<g id=\"node6\" class=\"node\">\n",
       "<title>ders</title>\n",
       "<polygon fill=\"none\" stroke=\"black\" points=\"579.53,-552 481.53,-552 481.53,-454 579.53,-454 579.53,-552\"/>\n",
       "<text text-anchor=\"middle\" x=\"530.53\" y=\"-536.8\" font-family=\"Times,serif\" font-size=\"14.00\">ders</text>\n",
       "<text text-anchor=\"middle\" x=\"530.53\" y=\"-521.8\" font-family=\"Times,serif\" font-size=\"14.00\">&#45; ders liste</text>\n",
       "<text text-anchor=\"middle\" x=\"530.53\" y=\"-506.8\" font-family=\"Times,serif\" font-size=\"14.00\">&#45; ders program</text>\n",
       "<text text-anchor=\"middle\" x=\"530.53\" y=\"-491.8\" font-family=\"Times,serif\" font-size=\"14.00\">&#45; ders şube</text>\n",
       "<text text-anchor=\"middle\" x=\"530.53\" y=\"-476.8\" font-family=\"Times,serif\" font-size=\"14.00\">&#45; şube ders</text>\n",
       "<text text-anchor=\"middle\" x=\"530.53\" y=\"-461.8\" font-family=\"Times,serif\" font-size=\"14.00\">&#45; ders şube</text>\n",
       "</g>\n",
       "<!-- ders&#45;&#45;belge -->\n",
       "<g id=\"edge22\" class=\"edge\">\n",
       "<title>ders&#45;&#45;belge</title>\n",
       "<path fill=\"none\" stroke=\"black\" d=\"M481.29,-468.59C459.18,-453.39 432.87,-435.03 409.53,-418 317,-350.5 281.56,-332.31 236.53,-227 207.77,-159.77 195.41,-72.48 191.26,-36.09\"/>\n",
       "</g>\n",
       "<!-- ders&#45;&#45;bilgi -->\n",
       "<g id=\"edge23\" class=\"edge\">\n",
       "<title>ders&#45;&#45;bilgi</title>\n",
       "<path fill=\"none\" stroke=\"black\" d=\"M481.25,-454.96C450.72,-424.9 411.39,-384.46 379.53,-346 345.97,-305.5 311.6,-253.84 294.54,-227.37\"/>\n",
       "</g>\n",
       "<!-- ders&#45;&#45;danışman -->\n",
       "<g id=\"edge1\" class=\"edge\">\n",
       "<title>ders&#45;&#45;danışman</title>\n",
       "<path fill=\"none\" stroke=\"black\" d=\"M542.67,-453.86C556.2,-391.89 573.14,-281.41 548.53,-191 545.17,-178.66 539.25,-166.28 532.8,-155.18\"/>\n",
       "</g>\n",
       "<!-- elektronik dilekçe -->\n",
       "<g id=\"node9\" class=\"node\">\n",
       "<title>elektronik dilekçe</title>\n",
       "<polygon fill=\"none\" stroke=\"black\" points=\"502.53,-346 388.53,-346 388.53,-263 502.53,-263 502.53,-346\"/>\n",
       "<text text-anchor=\"middle\" x=\"445.53\" y=\"-330.8\" font-family=\"Times,serif\" font-size=\"14.00\">elektronik dilekçe</text>\n",
       "<text text-anchor=\"middle\" x=\"445.53\" y=\"-315.8\" font-family=\"Times,serif\" font-size=\"14.00\">&#45; not</text>\n",
       "<text text-anchor=\"middle\" x=\"445.53\" y=\"-300.8\" font-family=\"Times,serif\" font-size=\"14.00\">&#45; öğretim eleman</text>\n",
       "<text text-anchor=\"middle\" x=\"445.53\" y=\"-285.8\" font-family=\"Times,serif\" font-size=\"14.00\">&#45; program</text>\n",
       "<text text-anchor=\"middle\" x=\"445.53\" y=\"-270.8\" font-family=\"Times,serif\" font-size=\"14.00\">&#45; tarih bilgi</text>\n",
       "</g>\n",
       "<!-- ders&#45;&#45;elektronik dilekçe -->\n",
       "<g id=\"edge14\" class=\"edge\">\n",
       "<title>ders&#45;&#45;elektronik dilekçe</title>\n",
       "<path fill=\"none\" stroke=\"black\" d=\"M509.73,-453.93C495.43,-420.87 476.64,-377.44 463.09,-346.11\"/>\n",
       "</g>\n",
       "<!-- ders&#45;&#45;görevli -->\n",
       "<g id=\"edge15\" class=\"edge\">\n",
       "<title>ders&#45;&#45;görevli</title>\n",
       "<path fill=\"none\" stroke=\"black\" d=\"M481.51,-472.62C413.94,-428.9 295.13,-339.64 247.53,-227 217.4,-155.71 287.33,-71.66 321.77,-36.17\"/>\n",
       "</g>\n",
       "<!-- harf not -->\n",
       "<g id=\"node13\" class=\"node\">\n",
       "<title>harf not</title>\n",
       "<polygon fill=\"none\" stroke=\"black\" points=\"540.03,-227 481.03,-227 481.03,-191 540.03,-191 540.03,-227\"/>\n",
       "<text text-anchor=\"middle\" x=\"510.53\" y=\"-205.3\" font-family=\"Times,serif\" font-size=\"14.00\">harf not</text>\n",
       "</g>\n",
       "<!-- ders&#45;&#45;harf not -->\n",
       "<g id=\"edge16\" class=\"edge\">\n",
       "<title>ders&#45;&#45;harf not</title>\n",
       "<path fill=\"none\" stroke=\"black\" d=\"M527.22,-453.78C522.67,-387.37 514.7,-270.99 511.71,-227.26\"/>\n",
       "</g>\n",
       "<!-- ders&#45;&#45;kampü -->\n",
       "<g id=\"edge18\" class=\"edge\">\n",
       "<title>ders&#45;&#45;kampü</title>\n",
       "<path fill=\"none\" stroke=\"black\" d=\"M579.87,-489.82C616.11,-478.02 662.82,-456.13 685.53,-418 693.71,-404.25 686.99,-397.93 685.53,-382 672.15,-236.12 683.07,-169.27 573.53,-72 545.71,-47.3 504.61,-32.77 477.71,-25.35\"/>\n",
       "</g>\n",
       "<!-- program -->\n",
       "<g id=\"node19\" class=\"node\">\n",
       "<title>program</title>\n",
       "<polygon fill=\"none\" stroke=\"black\" points=\"676.03,-418 613.03,-418 613.03,-382 676.03,-382 676.03,-418\"/>\n",
       "<text text-anchor=\"middle\" x=\"644.53\" y=\"-396.3\" font-family=\"Times,serif\" font-size=\"14.00\">program</text>\n",
       "</g>\n",
       "<!-- ders&#45;&#45;program -->\n",
       "<g id=\"edge24\" class=\"edge\">\n",
       "<title>ders&#45;&#45;program</title>\n",
       "<path fill=\"none\" stroke=\"black\" d=\"M579.53,-458.58C595.71,-444.25 612.76,-429.15 625.33,-418\"/>\n",
       "</g>\n",
       "<!-- ders&#45;&#45;talebi -->\n",
       "<g id=\"edge20\" class=\"edge\">\n",
       "<title>ders&#45;&#45;talebi</title>\n",
       "<path fill=\"none\" stroke=\"black\" d=\"M579.71,-493.57C665.75,-475.7 834.53,-425.37 834.53,-305.5 834.53,-305.5 834.53,-305.5 834.53,-208 834.53,-135.72 773.16,-66.89 741.27,-36\"/>\n",
       "</g>\n",
       "<!-- ders&#45;&#45;tarih -->\n",
       "<g id=\"edge21\" class=\"edge\">\n",
       "<title>ders&#45;&#45;tarih</title>\n",
       "<path fill=\"none\" stroke=\"black\" d=\"M579.63,-497.7C638.47,-490.3 737.38,-470.47 803.53,-418 923.87,-322.54 889.05,-99.37 876.26,-36.03\"/>\n",
       "</g>\n",
       "<!-- ders&#45;&#45;şube -->\n",
       "<g id=\"edge25\" class=\"edge\">\n",
       "<title>ders&#45;&#45;şube</title>\n",
       "<path fill=\"none\" stroke=\"black\" d=\"M579.62,-492.51C619.86,-481.86 674.29,-460.22 700.53,-418 780.8,-288.8 670.65,-94.38 633.79,-36.1\"/>\n",
       "</g>\n",
       "<!-- doküman -->\n",
       "<g id=\"node7\" class=\"node\">\n",
       "<title>doküman</title>\n",
       "<polygon fill=\"none\" stroke=\"black\" points=\"563.53,-696 495.53,-696 495.53,-660 563.53,-660 563.53,-696\"/>\n",
       "<text text-anchor=\"middle\" x=\"529.53\" y=\"-674.3\" font-family=\"Times,serif\" font-size=\"14.00\">doküman</text>\n",
       "</g>\n",
       "<!-- dönem -->\n",
       "<g id=\"node8\" class=\"node\">\n",
       "<title>dönem</title>\n",
       "<polygon fill=\"none\" stroke=\"black\" points=\"635.53,-696 581.53,-696 581.53,-660 635.53,-660 635.53,-696\"/>\n",
       "<text text-anchor=\"middle\" x=\"608.53\" y=\"-674.3\" font-family=\"Times,serif\" font-size=\"14.00\">dönem</text>\n",
       "</g>\n",
       "<!-- elektronik dilekçe&#45;&#45;belge -->\n",
       "<g id=\"edge33\" class=\"edge\">\n",
       "<title>elektronik dilekçe&#45;&#45;belge</title>\n",
       "<path fill=\"none\" stroke=\"black\" d=\"M408.85,-262.74C351.89,-199.44 244.58,-80.18 204.84,-36.02\"/>\n",
       "</g>\n",
       "<!-- elektronik dilekçe&#45;&#45;bilgi -->\n",
       "<g id=\"edge34\" class=\"edge\">\n",
       "<title>elektronik dilekçe&#45;&#45;bilgi</title>\n",
       "<path fill=\"none\" stroke=\"black\" d=\"M388.41,-270.54C361.99,-255.29 331.85,-237.89 310.68,-225.67\"/>\n",
       "</g>\n",
       "<!-- elektronik dilekçe&#45;&#45;danışman -->\n",
       "<g id=\"edge2\" class=\"edge\">\n",
       "<title>elektronik dilekçe&#45;&#45;danışman</title>\n",
       "<path fill=\"none\" stroke=\"black\" d=\"M453.17,-262.96C457.67,-241.36 463.97,-214.47 471.53,-191 475.32,-179.22 480.18,-166.72 484.96,-155.31\"/>\n",
       "</g>\n",
       "<!-- elektronik dilekçe&#45;&#45;görevli -->\n",
       "<g id=\"edge26\" class=\"edge\">\n",
       "<title>elektronik dilekçe&#45;&#45;görevli</title>\n",
       "<path fill=\"none\" stroke=\"black\" d=\"M430.34,-262.74C406.75,-199.44 362.32,-80.18 345.87,-36.02\"/>\n",
       "</g>\n",
       "<!-- elektronik dilekçe&#45;&#45;harf not -->\n",
       "<g id=\"edge27\" class=\"edge\">\n",
       "<title>elektronik dilekçe&#45;&#45;harf not</title>\n",
       "<path fill=\"none\" stroke=\"black\" d=\"M473.85,-262.76C482.47,-250.36 491.49,-237.39 498.43,-227.41\"/>\n",
       "</g>\n",
       "<!-- elektronik dilekçe&#45;&#45;kampü -->\n",
       "<g id=\"edge29\" class=\"edge\">\n",
       "<title>elektronik dilekçe&#45;&#45;kampü</title>\n",
       "<path fill=\"none\" stroke=\"black\" d=\"M438.35,-262.67C431.36,-216.22 423.17,-138.2 433.53,-72 435.44,-59.78 439.69,-46.53 443.46,-36.33\"/>\n",
       "</g>\n",
       "<!-- elektronik dilekçe&#45;&#45;talebi -->\n",
       "<g id=\"edge31\" class=\"edge\">\n",
       "<title>elektronik dilekçe&#45;&#45;talebi</title>\n",
       "<path fill=\"none\" stroke=\"black\" d=\"M502.81,-275.88C526.23,-262.97 552.67,-246.2 573.53,-227 638.73,-166.99 692.8,-74.19 713.48,-36.15\"/>\n",
       "</g>\n",
       "<!-- elektronik dilekçe&#45;&#45;tarih -->\n",
       "<g id=\"edge32\" class=\"edge\">\n",
       "<title>elektronik dilekçe&#45;&#45;tarih</title>\n",
       "<path fill=\"none\" stroke=\"black\" d=\"M502.62,-279.81C533.88,-265.96 572.79,-247.24 605.53,-227 704.97,-165.49 811.15,-73.92 853.5,-36.2\"/>\n",
       "</g>\n",
       "<!-- elektronik dilekçe&#45;&#45;şube -->\n",
       "<g id=\"edge36\" class=\"edge\">\n",
       "<title>elektronik dilekçe&#45;&#45;şube</title>\n",
       "<path fill=\"none\" stroke=\"black\" d=\"M502.64,-270.21C519.24,-258.3 536.21,-243.65 548.53,-227 593.89,-165.68 613.44,-74.01 619.9,-36.22\"/>\n",
       "</g>\n",
       "<!-- eğ -->\n",
       "<g id=\"node10\" class=\"node\">\n",
       "<title>eğ</title>\n",
       "<polygon fill=\"none\" stroke=\"black\" points=\"707.53,-696 653.53,-696 653.53,-660 707.53,-660 707.53,-696\"/>\n",
       "<text text-anchor=\"middle\" x=\"680.53\" y=\"-674.3\" font-family=\"Times,serif\" font-size=\"14.00\">eğ</text>\n",
       "</g>\n",
       "<!-- eğitmen taraf -->\n",
       "<g id=\"node11\" class=\"node\">\n",
       "<title>eğitmen taraf</title>\n",
       "<polygon fill=\"none\" stroke=\"black\" points=\"815.03,-696 726.03,-696 726.03,-660 815.03,-660 815.03,-696\"/>\n",
       "<text text-anchor=\"middle\" x=\"770.53\" y=\"-674.3\" font-family=\"Times,serif\" font-size=\"14.00\">eğitmen taraf</text>\n",
       "</g>\n",
       "<!-- harf not&#45;&#45;danışman -->\n",
       "<g id=\"edge4\" class=\"edge\">\n",
       "<title>harf not&#45;&#45;danışman</title>\n",
       "<path fill=\"none\" stroke=\"black\" d=\"M509.24,-190.85C508.49,-180.83 507.51,-167.74 506.57,-155.23\"/>\n",
       "</g>\n",
       "<!-- içerik -->\n",
       "<g id=\"node14\" class=\"node\">\n",
       "<title>içerik</title>\n",
       "<polygon fill=\"none\" stroke=\"black\" points=\"887.53,-696 833.53,-696 833.53,-660 887.53,-660 887.53,-696\"/>\n",
       "<text text-anchor=\"middle\" x=\"860.53\" y=\"-674.3\" font-family=\"Times,serif\" font-size=\"14.00\">içerik</text>\n",
       "</g>\n",
       "<!-- kayıt iş -->\n",
       "<g id=\"node16\" class=\"node\">\n",
       "<title>kayıt iş</title>\n",
       "<polygon fill=\"none\" stroke=\"black\" points=\"405.53,-696 349.53,-696 349.53,-660 405.53,-660 405.53,-696\"/>\n",
       "<text text-anchor=\"middle\" x=\"377.53\" y=\"-674.3\" font-family=\"Times,serif\" font-size=\"14.00\">kayıt iş</text>\n",
       "</g>\n",
       "<!-- kayıt iş&#45;&#45;belge -->\n",
       "<g id=\"edge41\" class=\"edge\">\n",
       "<title>kayıt iş&#45;&#45;belge</title>\n",
       "<path fill=\"none\" stroke=\"black\" d=\"M349.24,-663.23C346.01,-662 342.73,-660.88 339.53,-660 273.95,-641.9 87.45,-667.95 35.53,-624 -6.88,-588.11 0.53,-559.56 0.53,-504 0.53,-504 0.53,-504 0.53,-208 0.53,-143.45 6.06,-117.83 51.53,-72 81.8,-41.48 131.54,-28.21 162.31,-22.68\"/>\n",
       "</g>\n",
       "<!-- kayıt iş&#45;&#45;bilgi -->\n",
       "<g id=\"edge42\" class=\"edge\">\n",
       "<title>kayıt iş&#45;&#45;bilgi</title>\n",
       "<path fill=\"none\" stroke=\"black\" d=\"M374.07,-659.83C359.33,-586.6 301.81,-300.86 287.01,-227.33\"/>\n",
       "</g>\n",
       "<!-- kayıt iş&#45;&#45;danışman -->\n",
       "<g id=\"edge5\" class=\"edge\">\n",
       "<title>kayıt iş&#45;&#45;danışman</title>\n",
       "<path fill=\"none\" stroke=\"black\" d=\"M349.48,-662.62C289.17,-630.76 152.53,-553.15 152.53,-504 152.53,-504 152.53,-504 152.53,-303.5 152.53,-173.38 341.82,-132.45 442.39,-119.88\"/>\n",
       "</g>\n",
       "<!-- kayıt iş&#45;&#45;ders -->\n",
       "<g id=\"edge17\" class=\"edge\">\n",
       "<title>kayıt iş&#45;&#45;ders</title>\n",
       "<path fill=\"none\" stroke=\"black\" d=\"M405.71,-659.96C420.09,-650.46 437.29,-637.78 450.53,-624 471.08,-602.6 489.75,-575.3 503.87,-552.15\"/>\n",
       "</g>\n",
       "<!-- kayıt iş&#45;&#45;elektronik dilekçe -->\n",
       "<g id=\"edge28\" class=\"edge\">\n",
       "<title>kayıt iş&#45;&#45;elektronik dilekçe</title>\n",
       "<path fill=\"none\" stroke=\"black\" d=\"M375.69,-659.87C374.1,-641.89 372.49,-612.85 375.53,-588 386.24,-500.23 415.02,-400.44 432.15,-346.09\"/>\n",
       "</g>\n",
       "<!-- kayıt iş&#45;&#45;görevli -->\n",
       "<g id=\"edge44\" class=\"edge\">\n",
       "<title>kayıt iş&#45;&#45;görevli</title>\n",
       "<path fill=\"none\" stroke=\"black\" d=\"M349.23,-663.27C346,-662.03 342.73,-660.9 339.53,-660 279.78,-643.15 107.89,-666.37 62.53,-624 22.78,-586.87 38.53,-558.39 38.53,-504 38.53,-504 38.53,-504 38.53,-208 38.53,-79.5 237.71,-34.99 312.02,-22.86\"/>\n",
       "</g>\n",
       "<!-- kayıt iş&#45;&#45;kampü -->\n",
       "<g id=\"edge37\" class=\"edge\">\n",
       "<title>kayıt iş&#45;&#45;kampü</title>\n",
       "<path fill=\"none\" stroke=\"black\" d=\"M349.45,-664.03C346.12,-662.62 342.76,-661.25 339.53,-660 212.68,-611.22 76.53,-639.9 76.53,-504 76.53,-504 76.53,-504 76.53,-303.5 76.53,-129.12 337.26,-47.6 423.33,-25.44\"/>\n",
       "</g>\n",
       "<!-- kayıt iş&#45;&#45;program -->\n",
       "<g id=\"edge43\" class=\"edge\">\n",
       "<title>kayıt iş&#45;&#45;program</title>\n",
       "<path fill=\"none\" stroke=\"black\" d=\"M405.72,-663.46C457.1,-638.29 563.04,-583.96 588.53,-552 621.47,-510.68 636.3,-448.07 641.8,-418.13\"/>\n",
       "</g>\n",
       "<!-- kayıt iş&#45;&#45;talebi -->\n",
       "<g id=\"edge39\" class=\"edge\">\n",
       "<title>kayıt iş&#45;&#45;talebi</title>\n",
       "<path fill=\"none\" stroke=\"black\" d=\"M405.57,-663.4C408.56,-662.17 411.58,-661 414.53,-660 481.87,-637.03 501.89,-642.78 570.53,-624 740.54,-577.48 948.53,-680.26 948.53,-504 948.53,-504 948.53,-504 948.53,-399 948.53,-241.6 915.88,-190.71 812.53,-72 795.5,-52.44 769.41,-38.2 749.7,-29.43\"/>\n",
       "</g>\n",
       "<!-- kayıt iş&#45;&#45;tarih -->\n",
       "<g id=\"edge40\" class=\"edge\">\n",
       "<title>kayıt iş&#45;&#45;tarih</title>\n",
       "<path fill=\"none\" stroke=\"black\" d=\"M405.86,-662.87C408.74,-661.77 411.66,-660.79 414.53,-660 668.64,-590.28 986.53,-767.51 986.53,-504 986.53,-504 986.53,-504 986.53,-208 986.53,-135.58 924.39,-67.07 891.86,-36.18\"/>\n",
       "</g>\n",
       "<!-- öğrenci -->\n",
       "<g id=\"node23\" class=\"node\">\n",
       "<title>öğrenci</title>\n",
       "<polygon fill=\"none\" stroke=\"black\" points=\"442.03,-624 385.03,-624 385.03,-588 442.03,-588 442.03,-624\"/>\n",
       "<text text-anchor=\"middle\" x=\"413.53\" y=\"-602.3\" font-family=\"Times,serif\" font-size=\"14.00\">öğrenci</text>\n",
       "</g>\n",
       "<!-- kayıt iş&#45;&#45;öğrenci -->\n",
       "<g id=\"edge38\" class=\"edge\">\n",
       "<title>kayıt iş&#45;&#45;öğrenci</title>\n",
       "<path fill=\"none\" stroke=\"black\" d=\"M386.42,-659.7C392,-648.85 399.17,-634.92 404.73,-624.1\"/>\n",
       "</g>\n",
       "<!-- kayıt iş&#45;&#45;şube -->\n",
       "<g id=\"edge45\" class=\"edge\">\n",
       "<title>kayıt iş&#45;&#45;şube</title>\n",
       "<path fill=\"none\" stroke=\"black\" d=\"M405.66,-663.65C408.63,-662.36 411.63,-661.12 414.53,-660 463.68,-640.96 480.56,-647.92 527.53,-624 578.09,-598.25 791.08,-442.95 803.53,-418 854.33,-316.15 996.28,-498.81 688.53,-72 678.13,-57.58 662.81,-44.95 649.55,-35.64\"/>\n",
       "</g>\n",
       "<!-- kota -->\n",
       "<g id=\"node17\" class=\"node\">\n",
       "<title>kota</title>\n",
       "<polygon fill=\"none\" stroke=\"black\" points=\"959.53,-696 905.53,-696 905.53,-660 959.53,-660 959.53,-696\"/>\n",
       "<text text-anchor=\"middle\" x=\"932.53\" y=\"-674.3\" font-family=\"Times,serif\" font-size=\"14.00\">kota</text>\n",
       "</g>\n",
       "<!-- kullanıcı -->\n",
       "<g id=\"node18\" class=\"node\">\n",
       "<title>kullanıcı</title>\n",
       "<polygon fill=\"none\" stroke=\"black\" points=\"1041.53,-696 977.53,-696 977.53,-660 1041.53,-660 1041.53,-696\"/>\n",
       "<text text-anchor=\"middle\" x=\"1009.53\" y=\"-674.3\" font-family=\"Times,serif\" font-size=\"14.00\">kullanıcı</text>\n",
       "</g>\n",
       "<!-- program&#45;&#45;danışman -->\n",
       "<g id=\"edge12\" class=\"edge\">\n",
       "<title>program&#45;&#45;danışman</title>\n",
       "<path fill=\"none\" stroke=\"black\" d=\"M647.14,-381.81C651.96,-344.09 658.54,-252.54 620.53,-191 607.33,-169.63 585.68,-153.03 564.56,-140.85\"/>\n",
       "</g>\n",
       "<!-- program&#45;&#45;elektronik dilekçe -->\n",
       "<g id=\"edge35\" class=\"edge\">\n",
       "<title>program&#45;&#45;elektronik dilekçe</title>\n",
       "<path fill=\"none\" stroke=\"black\" d=\"M612.99,-384.18C583.4,-370.28 538.45,-349.16 502.57,-332.3\"/>\n",
       "</g>\n",
       "<!-- transkript -->\n",
       "<g id=\"node22\" class=\"node\">\n",
       "<title>transkript</title>\n",
       "<polygon fill=\"none\" stroke=\"black\" points=\"1127.53,-696 1059.53,-696 1059.53,-660 1127.53,-660 1127.53,-696\"/>\n",
       "<text text-anchor=\"middle\" x=\"1093.53\" y=\"-674.3\" font-family=\"Times,serif\" font-size=\"14.00\">transkript</text>\n",
       "</g>\n",
       "<!-- öğrenci&#45;&#45;danışman -->\n",
       "<g id=\"edge7\" class=\"edge\">\n",
       "<title>öğrenci&#45;&#45;danışman</title>\n",
       "<path fill=\"none\" stroke=\"black\" d=\"M395.32,-587.66C334.48,-527.65 147.61,-325.14 247.53,-191 270.87,-159.66 374.39,-136.43 442.43,-124.22\"/>\n",
       "</g>\n",
       "<!-- öğrenci&#45;&#45;ders -->\n",
       "<g id=\"edge19\" class=\"edge\">\n",
       "<title>öğrenci&#45;&#45;ders</title>\n",
       "<path fill=\"none\" stroke=\"black\" d=\"M433.37,-587.87C446.54,-576.5 464.44,-561.05 481.29,-546.5\"/>\n",
       "</g>\n",
       "<!-- öğrenci&#45;&#45;elektronik dilekçe -->\n",
       "<g id=\"edge30\" class=\"edge\">\n",
       "<title>öğrenci&#45;&#45;elektronik dilekçe</title>\n",
       "<path fill=\"none\" stroke=\"black\" d=\"M415.38,-587.6C420.37,-540.97 434.12,-412.25 441.2,-346.02\"/>\n",
       "</g>\n",
       "<!-- öğretim üye -->\n",
       "<g id=\"node24\" class=\"node\">\n",
       "<title>öğretim üye</title>\n",
       "<polygon fill=\"none\" stroke=\"black\" points=\"1229.03,-696 1146.03,-696 1146.03,-660 1229.03,-660 1229.03,-696\"/>\n",
       "<text text-anchor=\"middle\" x=\"1187.53\" y=\"-674.3\" font-family=\"Times,serif\" font-size=\"14.00\">öğretim üye</text>\n",
       "</g>\n",
       "</g>\n",
       "</svg>\n"
      ],
      "text/plain": [
       "<graphviz.graphs.Graph at 0x159a09fd0>"
      ]
     },
     "execution_count": 448,
     "metadata": {},
     "output_type": "execute_result"
    }
   ],
   "source": [
    "diagram"
   ]
  },
  {
   "cell_type": "code",
   "execution_count": 449,
   "id": "5b2bdfb0",
   "metadata": {},
   "outputs": [
    {
     "data": {
      "text/plain": [
       "<Figure size 432x288 with 0 Axes>"
      ]
     },
     "metadata": {},
     "output_type": "display_data"
    }
   ],
   "source": [
    "filename = diagram.render(filename='diagram')\n",
    "\n",
    "pylab.savefig('diagram.png')"
   ]
  },
  {
   "cell_type": "code",
   "execution_count": null,
   "id": "bc3ba5d6",
   "metadata": {},
   "outputs": [],
   "source": []
  }
 ],
 "metadata": {
  "kernelspec": {
   "display_name": "Python 3 (ipykernel)",
   "language": "python",
   "name": "python3"
  },
  "language_info": {
   "codemirror_mode": {
    "name": "ipython",
    "version": 3
   },
   "file_extension": ".py",
   "mimetype": "text/x-python",
   "name": "python",
   "nbconvert_exporter": "python",
   "pygments_lexer": "ipython3",
   "version": "3.8.9"
  }
 },
 "nbformat": 4,
 "nbformat_minor": 5
}
